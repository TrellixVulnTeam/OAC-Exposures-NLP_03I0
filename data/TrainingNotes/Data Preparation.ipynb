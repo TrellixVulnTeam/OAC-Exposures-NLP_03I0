{
 "cells": [
  {
   "cell_type": "markdown",
   "metadata": {},
   "source": [
    "# Data Preparation"
   ]
  },
  {
   "cell_type": "markdown",
   "metadata": {},
   "source": [
    "## import packages"
   ]
  },
  {
   "cell_type": "code",
   "execution_count": 1,
   "metadata": {},
   "outputs": [],
   "source": [
    "import os\n",
    "import sys\n",
    "import shutil\n",
    "import csv\n",
    "import pandas as pd"
   ]
  },
  {
   "cell_type": "markdown",
   "metadata": {},
   "source": [
    "## data"
   ]
  },
  {
   "cell_type": "code",
   "execution_count": 2,
   "metadata": {},
   "outputs": [],
   "source": [
    "RAW_NOTES_1 = \"../_notes/Apr 12, 2018 notes/EPIC Notes 20180412/\"\n",
    "RAW_NOTES_2 = \"../_notes/Apr 12, 2018 notes/Non EPIC Notes 20180412/\"\n",
    "RAW_NOTES_3 = \"../_notes/Mar 27, 2017 notes/Rashmee EPIC notes/\"\n",
    "RAW_NOTES_4 = \"../_notes/Mar 27, 2017 notes/Rashmee nonEpic notes/\"\n",
    "RAW_NOTES_5 = \"../_notes/Jue 6, 2018 notes (2007-2009)/EPIC Notes 20180614/\"\n",
    "RAW_NOTES_6 = \"../_notes/Jue 6, 2018 notes (2007-2009)/NonEpic notes 20180614/\""
   ]
  },
  {
   "cell_type": "code",
   "execution_count": 3,
   "metadata": {},
   "outputs": [],
   "source": [
    "dir_paths = [RAW_NOTES_1, RAW_NOTES_2, RAW_NOTES_3, RAW_NOTES_4, RAW_NOTES_5, RAW_NOTES_6]"
   ]
  },
  {
   "cell_type": "code",
   "execution_count": 4,
   "metadata": {},
   "outputs": [],
   "source": [
    "METADATA_FILE = \"oac_trainingnotes_metadata.csv\"\n",
    "OUT_FILE = \"oac_trainingnotes_metadata_expanded.csv\""
   ]
  },
  {
   "cell_type": "code",
   "execution_count": 5,
   "metadata": {},
   "outputs": [],
   "source": [
    "metadata_frame = pd.read_csv(METADATA_FILE)"
   ]
  },
  {
   "cell_type": "markdown",
   "metadata": {},
   "source": [
    "## read metadata"
   ]
  },
  {
   "cell_type": "code",
   "execution_count": 6,
   "metadata": {},
   "outputs": [],
   "source": [
    "in_fieldnames = ['mrn',\n",
    "                 'index_afibicd_date',\n",
    "                 'main_visit_no',\n",
    "                 'note_type_code',\n",
    "                 'note_type',\n",
    "                 'noteid',\n",
    "                 'note_prov_type',\n",
    "                 'note_setting',\n",
    "                 'note_date',\n",
    "                 'note_daysfromindex']"
   ]
  },
  {
   "cell_type": "code",
   "execution_count": 7,
   "metadata": {},
   "outputs": [],
   "source": [
    "out_fieldnames = ['mrn',\n",
    "                 'index_afibicd_date',\n",
    "                 'main_visit_no',\n",
    "                 'note_type_code',\n",
    "                 'note_type',\n",
    "                 'noteid',\n",
    "                 'note_prov_type',\n",
    "                 'note_setting',\n",
    "                 'note_date',\n",
    "                 'note_daysfromindex',\n",
    "                 'text']"
   ]
  },
  {
   "cell_type": "code",
   "execution_count": 8,
   "metadata": {},
   "outputs": [
    {
     "name": "stdout",
     "output_type": "stream",
     "text": [
      "Could not find file: noteid.txt\n",
      "Completed 35706 of 35705. (100%)"
     ]
    }
   ],
   "source": [
    "NUM_SELECTED_NOTES = len(metadata_frame)\n",
    "NO_NOTES_MRNS = []\n",
    "\n",
    "count = 1\n",
    "with open(METADATA_FILE, 'r') as infile, open(OUT_FILE, 'w') as outfile:\n",
    "    reader = csv.DictReader(infile, fieldnames=in_fieldnames)\n",
    "    writer = csv.DictWriter(outfile, fieldnames=out_fieldnames)\n",
    "    writer.writeheader()\n",
    "    for line in reader:\n",
    "        file_name = line['noteid'] + '.txt'\n",
    "        file_found = False\n",
    "        for dir_path in dir_paths:\n",
    "            file_path = dir_path + file_name\n",
    "            if os.path.isfile(file_path):\n",
    "                file_found = True\n",
    "                with open(file_path, 'rb') as note_bin:\n",
    "                    raw_note = note_bin.read()\n",
    "                    line['text'] = raw_note.decode('utf-8', 'ignore')\n",
    "                writer.writerow(line)\n",
    "                break\n",
    "        if not file_found:\n",
    "            print (\"Could not find file: {}\".format(file_name))\n",
    "            NO_NOTES_MRNS.append(line['mrn'])\n",
    "        sys.stdout.write(\"\\rCompleted %i of %i. (%.f%%)\" %(count, NUM_SELECTED_NOTES, float(count)/float(NUM_SELECTED_NOTES) * 100.))\n",
    "        sys.stdout.flush()\n",
    "        count += 1"
   ]
  },
  {
   "cell_type": "markdown",
   "metadata": {},
   "source": [
    "## validate using number of mrns"
   ]
  },
  {
   "cell_type": "code",
   "execution_count": 9,
   "metadata": {},
   "outputs": [
    {
     "data": {
      "text/plain": [
       "35705"
      ]
     },
     "execution_count": 9,
     "metadata": {},
     "output_type": "execute_result"
    }
   ],
   "source": [
    "len(metadata_frame)"
   ]
  },
  {
   "cell_type": "code",
   "execution_count": 10,
   "metadata": {},
   "outputs": [
    {
     "data": {
      "text/plain": [
       "534"
      ]
     },
     "execution_count": 10,
     "metadata": {},
     "output_type": "execute_result"
    }
   ],
   "source": [
    "len(metadata_frame['mrn'].unique())"
   ]
  },
  {
   "cell_type": "code",
   "execution_count": 11,
   "metadata": {},
   "outputs": [],
   "source": [
    "out_frame = pd.read_csv(OUT_FILE)"
   ]
  },
  {
   "cell_type": "code",
   "execution_count": 12,
   "metadata": {},
   "outputs": [
    {
     "data": {
      "text/plain": [
       "534"
      ]
     },
     "execution_count": 12,
     "metadata": {},
     "output_type": "execute_result"
    }
   ],
   "source": [
    "len(out_frame['mrn'].unique())"
   ]
  },
  {
   "cell_type": "code",
   "execution_count": 13,
   "metadata": {},
   "outputs": [
    {
     "data": {
      "text/plain": [
       "[]"
      ]
     },
     "execution_count": 13,
     "metadata": {},
     "output_type": "execute_result"
    }
   ],
   "source": [
    "NO_NOTES_MRNS[1:]"
   ]
  },
  {
   "cell_type": "code",
   "execution_count": null,
   "metadata": {},
   "outputs": [],
   "source": []
  }
 ],
 "metadata": {
  "kernelspec": {
   "display_name": "Python 3",
   "language": "python",
   "name": "python3"
  },
  "language_info": {
   "codemirror_mode": {
    "name": "ipython",
    "version": 3
   },
   "file_extension": ".py",
   "mimetype": "text/x-python",
   "name": "python",
   "nbconvert_exporter": "python",
   "pygments_lexer": "ipython3",
   "version": "3.6.6"
  }
 },
 "nbformat": 4,
 "nbformat_minor": 2
}
